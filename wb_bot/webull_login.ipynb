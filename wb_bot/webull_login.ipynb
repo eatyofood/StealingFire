{
 "cells": [
  {
   "cell_type": "code",
   "execution_count": null,
   "id": "9c581212",
   "metadata": {},
   "outputs": [],
   "source": [
    "# import jtplot submodule from jupyterthemes\n",
    "from jupyterthemes import get_themes\n",
    "import jupyterthemes as jt\n",
    "from jupyterthemes.stylefx import set_nb_theme\n",
    "#set_nb_theme('onedork') \n",
    "#set_nb_theme('grade3') \n",
    "#set_nb_theme('oceans16') \n",
    "#set_nb_theme('chesterish') \n",
    "#set_nb_theme('monokai') \n",
    "#set_nb_theme('solarizedl')  \n",
    "#set_nb_theme('solarizedd')\n",
    "#set_nb_theme('gruvboxl')\n",
    "set_nb_theme('gruvboxd')\n",
    "#set_nb_theme('dorkula')\n",
    "#set_nb_theme('the_one_i_messed_up')\n",
    "#set_nb_theme('the_one_i_messed_up')"
   ]
  },
  {
   "cell_type": "code",
   "execution_count": null,
   "id": "f64ae10f",
   "metadata": {},
   "outputs": [],
   "source": [
    "import pandas as pd\n",
    "from webull import webull\n",
    "import os\n",
    "import config"
   ]
  },
  {
   "cell_type": "markdown",
   "id": "f7f1e40d",
   "metadata": {},
   "source": [
    "# Credintials"
   ]
  },
  {
   "cell_type": "code",
   "execution_count": null,
   "id": "6bb7e07c",
   "metadata": {},
   "outputs": [],
   "source": [
    "\n",
    "email = config.wb_em\n",
    "pw    = config.wb_p\n",
    "pin   = config.wb_pi"
   ]
  },
  {
   "cell_type": "markdown",
   "id": "b743a7a1",
   "metadata": {},
   "source": [
    "# First Login Attempt "
   ]
  },
  {
   "cell_type": "code",
   "execution_count": null,
   "id": "afa5baa3",
   "metadata": {},
   "outputs": [],
   "source": [
    "wb = webull()"
   ]
  },
  {
   "cell_type": "code",
   "execution_count": null,
   "id": "0056a558",
   "metadata": {},
   "outputs": [],
   "source": [
    "wb.login(email,pw)"
   ]
  },
  {
   "cell_type": "markdown",
   "id": "c8869783",
   "metadata": {},
   "source": [
    "## EquiptmentCeck said `send`:\n"
   ]
  },
  {
   "cell_type": "code",
   "execution_count": null,
   "id": "e0b09b1e",
   "metadata": {},
   "outputs": [],
   "source": [
    "wb.get_mfa(email)"
   ]
  },
  {
   "cell_type": "markdown",
   "id": "653947b8",
   "metadata": {},
   "source": [
    "### Add Confimation Code from  email or text\n"
   ]
  },
  {
   "cell_type": "code",
   "execution_count": null,
   "id": "a532f46c",
   "metadata": {},
   "outputs": [],
   "source": [
    "mfa = '651118'\n"
   ]
  },
  {
   "cell_type": "markdown",
   "id": "ce1f08cb",
   "metadata": {},
   "source": [
    "## Get Security Question"
   ]
  },
  {
   "cell_type": "code",
   "execution_count": null,
   "id": "13bb792b",
   "metadata": {},
   "outputs": [],
   "source": [
    "wb.get_security(email)"
   ]
  },
  {
   "cell_type": "markdown",
   "id": "49e32b87",
   "metadata": {},
   "source": [
    "## Put answers in Variables"
   ]
  },
  {
   "cell_type": "code",
   "execution_count": null,
   "id": "30fee9eb",
   "metadata": {},
   "outputs": [],
   "source": [
    "question_id = '2005'\n",
    "question_an = 'modest mouse'\n"
   ]
  },
  {
   "cell_type": "markdown",
   "id": "554dc02b",
   "metadata": {},
   "source": [
    "# Put it all together "
   ]
  },
  {
   "cell_type": "code",
   "execution_count": null,
   "id": "8273884e",
   "metadata": {},
   "outputs": [],
   "source": [
    "data = wb.login(email,\n",
    "                pw,\n",
    "                device_name='athena',\n",
    "                mfa=mfa,\n",
    "                question_id=question_id,\n",
    "               question_answer=question_an,)\n",
    "               #save_token=True)\n",
    "print(data)\n",
    "\n",
    "import pandas as pd\n",
    "pd.DataFrame([data]).T"
   ]
  },
  {
   "cell_type": "markdown",
   "id": "90938747",
   "metadata": {},
   "source": [
    "## Try To Place A Trade or Get Positions"
   ]
  },
  {
   "cell_type": "code",
   "execution_count": null,
   "id": "c316ba1c",
   "metadata": {},
   "outputs": [],
   "source": [
    "wb.get_trade_token(pin)"
   ]
  },
  {
   "cell_type": "code",
   "execution_count": null,
   "id": "da120aa8",
   "metadata": {},
   "outputs": [],
   "source": [
    "positions = wb.get_positions()\n",
    "positions"
   ]
  },
  {
   "cell_type": "markdown",
   "id": "b407dd0c",
   "metadata": {},
   "source": [
    "## Is this doesn't work use :\n",
    "    wb.next_security(webull_email) #This can be used to request an alternate security question\n"
   ]
  },
  {
   "cell_type": "markdown",
   "id": "fe723fb2",
   "metadata": {},
   "source": [
    "### Example OrderPlacing\n",
    "    wb.place_order(\n",
    "        stock=None,\n",
    "        tId=None,\n",
    "        price=0,\n",
    "        action='BUY',\n",
    "        orderType='LMT',\n",
    "        enforce='GTC',\n",
    "        quant=0,\n",
    "        outsideRegularTradingHour=True,\n",
    "        stpPrice=None,\n",
    "        trial_value=0,\n",
    "        trial_type='DOLLAR',"
   ]
  },
  {
   "cell_type": "code",
   "execution_count": null,
   "id": "b8cf7d94",
   "metadata": {},
   "outputs": [],
   "source": [
    "orders = wb.place_order(stock='LTRY',)"
   ]
  },
  {
   "cell_type": "code",
   "execution_count": null,
   "id": "976d12e1",
   "metadata": {},
   "outputs": [],
   "source": []
  }
 ],
 "metadata": {
  "kernelspec": {
   "display_name": "Python 3 (ipykernel)",
   "language": "python",
   "name": "python3"
  },
  "language_info": {
   "codemirror_mode": {
    "name": "ipython",
    "version": 3
   },
   "file_extension": ".py",
   "mimetype": "text/x-python",
   "name": "python",
   "nbconvert_exporter": "python",
   "pygments_lexer": "ipython3",
   "version": "3.7.10"
  }
 },
 "nbformat": 4,
 "nbformat_minor": 5
}
