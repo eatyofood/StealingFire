{
 "cells": [
  {
   "cell_type": "code",
   "execution_count": null,
   "metadata": {},
   "outputs": [],
   "source": [
    "import pandas as pd\n",
    "import os\n",
    "import cufflinks as cf\n",
    "cf.go_offline(connected=False)\n",
    "import numpy as np"
   ]
  },
  {
   "cell_type": "code",
   "execution_count": null,
   "metadata": {},
   "outputs": [],
   "source": [
    "df = pd.read_csv('data/BATS SLV, 1D.csv',index_col='time')\n",
    "df.index = pd.to_datetime(df.index,unit='s')\n",
    "df['volume'] = df['Volume']\n",
    "df       = df[['open','high','low','close','volume']]\n",
    "\n",
    "df.head()"
   ]
  },
  {
   "cell_type": "code",
   "execution_count": null,
   "metadata": {},
   "outputs": [],
   "source": [
    "#df = df[-300:]\n",
    "df"
   ]
  },
  {
   "cell_type": "markdown",
   "metadata": {},
   "source": [
    "# Add Weekly Time Frame Awareness to Daily Data"
   ]
  },
  {
   "cell_type": "code",
   "execution_count": null,
   "metadata": {},
   "outputs": [],
   "source": [
    "from finding_fire import add_weekly"
   ]
  },
  {
   "cell_type": "code",
   "execution_count": null,
   "metadata": {},
   "outputs": [],
   "source": [
    "add_weekly(df,add_indicators=True,plot = True)"
   ]
  },
  {
   "cell_type": "code",
   "execution_count": null,
   "metadata": {
    "scrolled": true
   },
   "outputs": [],
   "source": [
    "df.head()"
   ]
  },
  {
   "cell_type": "markdown",
   "metadata": {},
   "source": [
    "# Higher Highs and Lower Lows Trend Map..."
   ]
  },
  {
   "cell_type": "code",
   "execution_count": null,
   "metadata": {},
   "outputs": [],
   "source": [
    "\n",
    "from finding_fire import higher_highs_trendmap,hl"
   ]
  },
  {
   "cell_type": "code",
   "execution_count": null,
   "metadata": {},
   "outputs": [],
   "source": [
    "higher_highs_trendmap(df,)\n",
    "#hl(df)"
   ]
  },
  {
   "cell_type": "code",
   "execution_count": null,
   "metadata": {},
   "outputs": [],
   "source": [
    "hl(df)"
   ]
  },
  {
   "cell_type": "markdown",
   "metadata": {},
   "source": [
    "# Add hh_ Trend Map Indicator to weekly time frame!"
   ]
  },
  {
   "cell_type": "code",
   "execution_count": null,
   "metadata": {},
   "outputs": [],
   "source": []
  },
  {
   "cell_type": "markdown",
   "metadata": {},
   "source": [
    "### Starting over with fresh data"
   ]
  },
  {
   "cell_type": "code",
   "execution_count": null,
   "metadata": {},
   "outputs": [],
   "source": [
    "df           = pd.read_csv('data/BATS SLV, 1D.csv',index_col='time')\n",
    "df.index     = pd.to_datetime(df.index,unit='s')\n",
    "df['volume'] = df['Volume']\n",
    "df           = df[['open','high','low','close','volume']]\n",
    "# shorten dataframe for time sake...\n",
    "df           = df[-300:]"
   ]
  },
  {
   "cell_type": "markdown",
   "metadata": {},
   "source": [
    "# all you have to do to add a custom indicator to weekly is:\n",
    "### pass the function into the 'other_indicator_function_param'\n",
    "- in this case we pass the hhll_trendmap"
   ]
  },
  {
   "cell_type": "code",
   "execution_count": null,
   "metadata": {
    "scrolled": false
   },
   "outputs": [],
   "source": [
    "other_indicator_function= higher_highs_trendmap\n",
    "add_weekly(df,add_indicators=False,plot=True,other_indicator_function=other_indicator_function)"
   ]
  },
  {
   "cell_type": "code",
   "execution_count": null,
   "metadata": {},
   "outputs": [],
   "source": [
    "df['datee'] = df.index.date"
   ]
  },
  {
   "cell_type": "code",
   "execution_count": null,
   "metadata": {
    "scrolled": true
   },
   "outputs": [],
   "source": [
    "hl(df)"
   ]
  },
  {
   "cell_type": "code",
   "execution_count": null,
   "metadata": {},
   "outputs": [],
   "source": [
    "df.head(1)"
   ]
  },
  {
   "cell_type": "code",
   "execution_count": null,
   "metadata": {},
   "outputs": [],
   "source": [
    "pd.set_option('display.max_columns',None)"
   ]
  },
  {
   "cell_type": "markdown",
   "metadata": {},
   "source": [
    "# add daily trendmap things"
   ]
  },
  {
   "cell_type": "code",
   "execution_count": null,
   "metadata": {},
   "outputs": [],
   "source": [
    "higher_highs_trendmap(df)"
   ]
  },
  {
   "cell_type": "code",
   "execution_count": null,
   "metadata": {},
   "outputs": [],
   "source": [
    "hl(df)"
   ]
  },
  {
   "cell_type": "markdown",
   "metadata": {},
   "source": [
    "# daily trendmap inside of weekly trendmap"
   ]
  },
  {
   "cell_type": "code",
   "execution_count": null,
   "metadata": {},
   "outputs": [],
   "source": [
    "df[['week_last_high_and_last_low_higher_scale','close','last_high_and_last_low_higher_scale']].iplot(theme='solar',fill=True,title='# daily trendmap inside of weekly trendmap')"
   ]
  },
  {
   "cell_type": "code",
   "execution_count": null,
   "metadata": {},
   "outputs": [],
   "source": [
    "df[['week_last_high_and_last_low_higher_scale','close']].iplot(theme='solar',fill=True)"
   ]
  },
  {
   "cell_type": "code",
   "execution_count": null,
   "metadata": {},
   "outputs": [],
   "source": [
    "results = []"
   ]
  },
  {
   "cell_type": "markdown",
   "metadata": {},
   "source": [
    "# Backtest"
   ]
  },
  {
   "cell_type": "code",
   "execution_count": null,
   "metadata": {},
   "outputs": [],
   "source": [
    "from finding_fire import pct_targets,one_stop"
   ]
  },
  {
   "cell_type": "code",
   "execution_count": null,
   "metadata": {},
   "outputs": [],
   "source": [
    "df['buy']  = (df['trend_change_up'] == True) & ( df['trend_change_up'].shift() == False)\n",
    "pct_targets(df,up_pct=3,dn_pct=1,plot=False)\n",
    "result     = one_stop(df,strat_name = 'SHORT Trend Change')\n",
    "result[['wins','loss']].sum().plot(kind='pie')\n",
    "results.append(result)"
   ]
  },
  {
   "cell_type": "code",
   "execution_count": null,
   "metadata": {
    "scrolled": false
   },
   "outputs": [],
   "source": [
    "\n",
    "#hl(df)\n",
    "\n",
    "# Now Compare To Weekly \n",
    "\n",
    "df['buy']  = (df['trend_change_up'] == True) & ( df['trend_change_up'].shift() == False) & (df['week_last_high_and_last_low_higher']== True)\n",
    "pct_targets(df,up_pct=3,dn_pct=1,plot=False)\n",
    "if len(df[df['buy']==True]) > 0:\n",
    "    result     = one_stop(df,strat_name = 'SHORT - Trend Change - with week condition')\n",
    "    result[['wins','loss']].sum().plot(kind='pie')\n",
    "    results.append(result)\n",
    "#hl(df)"
   ]
  },
  {
   "cell_type": "code",
   "execution_count": null,
   "metadata": {},
   "outputs": [],
   "source": []
  },
  {
   "cell_type": "markdown",
   "metadata": {},
   "source": [
    "# now we can do the same for a short plot"
   ]
  },
  {
   "cell_type": "code",
   "execution_count": null,
   "metadata": {},
   "outputs": [],
   "source": [
    "from finding_fire import short_frame"
   ]
  },
  {
   "cell_type": "code",
   "execution_count": null,
   "metadata": {},
   "outputs": [],
   "source": [
    "df = df[['open','high','close','low','volume']]\n",
    "df"
   ]
  },
  {
   "cell_type": "markdown",
   "metadata": {},
   "source": [
    "# Now its long..."
   ]
  },
  {
   "cell_type": "code",
   "execution_count": null,
   "metadata": {},
   "outputs": [],
   "source": [
    "from finding_fire import sola\n",
    "sola(df.drop('volume',axis=1))\n",
    "short_frame(df)\n",
    "sola(df.drop('volume',axis=1))"
   ]
  },
  {
   "cell_type": "markdown",
   "metadata": {},
   "source": [
    "# Now Its Short ... \n",
    "- you can now preform backtest as if you going long. \n",
    "- no complication no mess it just works..."
   ]
  },
  {
   "cell_type": "code",
   "execution_count": null,
   "metadata": {},
   "outputs": [],
   "source": [
    "add_weekly(df,other_indicator_function=higher_highs_trendmap)"
   ]
  },
  {
   "cell_type": "code",
   "execution_count": null,
   "metadata": {},
   "outputs": [],
   "source": [
    "higher_highs_trendmap(df)"
   ]
  },
  {
   "cell_type": "code",
   "execution_count": null,
   "metadata": {},
   "outputs": [],
   "source": [
    "df[['week_last_high_and_last_low_higher_scale','close','last_high_and_last_low_higher_scale']].iplot(theme='solar',fill=True,title='# daily trendmap inside of weekly trendmap')"
   ]
  },
  {
   "cell_type": "code",
   "execution_count": null,
   "metadata": {},
   "outputs": [],
   "source": [
    "results = []"
   ]
  },
  {
   "cell_type": "markdown",
   "metadata": {},
   "source": [
    "# BUY VS BUY in TELESCOPE"
   ]
  },
  {
   "cell_type": "code",
   "execution_count": null,
   "metadata": {},
   "outputs": [],
   "source": [
    "from finding_fire import pct_targets,one_stop"
   ]
  },
  {
   "cell_type": "code",
   "execution_count": null,
   "metadata": {
    "scrolled": false
   },
   "outputs": [],
   "source": [
    "df['buy']  = (df['trend_change_up'] == True) & ( df['trend_change_up'].shift() == False)\n",
    "pct_targets(df,up_pct=2,dn_pct=1,plot=False)\n",
    "result     = one_stop(df,strat_name = 'SHORT Trend Change')\n",
    "result[['wins','loss']].sum().plot(kind='pie')\n",
    "results.append(result)\n",
    "#hl(df)"
   ]
  },
  {
   "cell_type": "markdown",
   "metadata": {},
   "source": [
    "# Now Compare To Weekly "
   ]
  },
  {
   "cell_type": "code",
   "execution_count": null,
   "metadata": {},
   "outputs": [],
   "source": [
    "df['buy']  = (df['trend_change_up'] == True) & ( df['trend_change_up'].shift() == False) & (df['week_last_high_and_last_low_higher']== True)\n",
    "pct_targets(df,up_pct=2,dn_pct=1,plot=False)\n",
    "if len(df[df['buy']==True]) > 0:\n",
    "    result     = one_stop(df,strat_name = 'SHORT - Trend Change - with week condition')\n",
    "    result[['wins','loss']].sum().plot(kind='pie')\n",
    "    results.append(result)\n",
    "#hl(df)"
   ]
  },
  {
   "cell_type": "code",
   "execution_count": null,
   "metadata": {},
   "outputs": [],
   "source": []
  },
  {
   "cell_type": "code",
   "execution_count": null,
   "metadata": {},
   "outputs": [],
   "source": []
  },
  {
   "cell_type": "code",
   "execution_count": null,
   "metadata": {},
   "outputs": [],
   "source": []
  },
  {
   "cell_type": "code",
   "execution_count": null,
   "metadata": {},
   "outputs": [],
   "source": []
  },
  {
   "cell_type": "code",
   "execution_count": null,
   "metadata": {},
   "outputs": [],
   "source": []
  },
  {
   "cell_type": "code",
   "execution_count": null,
   "metadata": {},
   "outputs": [],
   "source": []
  },
  {
   "cell_type": "code",
   "execution_count": null,
   "metadata": {},
   "outputs": [],
   "source": []
  },
  {
   "cell_type": "code",
   "execution_count": null,
   "metadata": {},
   "outputs": [],
   "source": [
    "stop = "
   ]
  },
  {
   "cell_type": "code",
   "execution_count": null,
   "metadata": {},
   "outputs": [],
   "source": [
    "import pandas_ta as pta\n",
    "def sola(df,title=None):\n",
    "    return df.iplot(theme='solar',fill=True,title=title)\n",
    "\n",
    "def hl(df):\n",
    "    def highlight(boo):\n",
    "        criteria = boo == True\n",
    "        return [ 'background-color: green' if i else '' for i in criteria]\n",
    "    df = df.style.apply(highlight)\n",
    "    return df\n",
    "\n",
    "\n",
    "def indicator_adder(df):\n",
    "    '''\n",
    "    this adds the most common indicators to a dataframe\n",
    "    with lower case close open high low volume\n",
    "    takes: dataframe\n",
    "    returns : dataframe\n",
    "    '''\n",
    "    df['rsi'] = pta.rsi(df.close)\n",
    "    df['vwap'] = pta.vwap(df.high,df.low,df.close,df.volume)\n",
    "    df[['stoch_k','stoch_d']] = pta.stoch(df.high,df.low,df.close)\n",
    "    if len(df)>20:\n",
    "        df['ema'] = pta.ema(df.close,length=20)\n",
    "    df['rsi'] = pta.rsi(df.close,length=2)\n",
    "    #if len(df)>6:\n",
    "        #df        = super_trend(df)\n",
    "    return df"
   ]
  },
  {
   "cell_type": "code",
   "execution_count": null,
   "metadata": {},
   "outputs": [],
   "source": [
    "df.tail()\n",
    "\n",
    "df['year'] = df.index.year\n",
    "df.head()\n",
    "\n",
    "df['week_year'] = df['year'].astype(str)+ '-'+ df['week'].astype(str)\n",
    "df\n",
    "\n",
    "df.groupby('week_year').agg('last')#.sort_values('date')\n",
    "#df"
   ]
  },
  {
   "cell_type": "markdown",
   "metadata": {},
   "source": [
    "# This is ready to be a function \n",
    "## Except:\n",
    "##  >>> close and open are the same for some reason\n",
    "## >>> they are all using low"
   ]
  },
  {
   "cell_type": "code",
   "execution_count": null,
   "metadata": {},
   "outputs": [],
   "source": [
    "df.groupby('week_year').agg('last').sort_values('date')#['close']"
   ]
  },
  {
   "cell_type": "code",
   "execution_count": null,
   "metadata": {},
   "outputs": [],
   "source": [
    "\n",
    "\n",
    "week_high= df.groupby('week_year').agg('max')['high']\n",
    "week_low = df.groupby('week_year').agg('min')['low']\n",
    "week_close=df.groupby('week_year').agg('last').sort_values('date')['close']\n",
    "week_open =df.groupby('week_year').agg('first').sort_values('date')['open']\n",
    "week_date =df.groupby('week_year').agg('last')['date']\n",
    "week_volume=df.groupby('week_year').agg('sum')['volume']\n",
    "\n",
    "week_columns= [week_high,week_low,week_close,week_open,week_volume,week_date]\n",
    "week_df = pd.DataFrame(week_columns).T\n",
    "week_df = week_df.sort_values('date')\n",
    "#week_df  = indicator_adder(week_df)\n",
    "week_df\n",
    "\n",
    "\n",
    "from tqdm import trange\n",
    "\n",
    "\n",
    "\n",
    "for col in week_df.drop('date',axis=1).columns:\n",
    "    week_df[col] = week_df[col].shift()\n",
    "    new_col = 'week_'+col\n",
    "    print(new_col)\n",
    "    df[new_col] = 0.0\n",
    "    for i in trange(1,len(df)):\n",
    "        week_year = df['week_year'][i]\n",
    "        df[new_col][i] = week_df[col][week_year]\n",
    "    \n",
    "\n",
    "sola(df[['low','high','week_low','week_high']])\n",
    "\n",
    "sola(df[['week_open','week_close','open','close']])"
   ]
  },
  {
   "cell_type": "code",
   "execution_count": null,
   "metadata": {},
   "outputs": [],
   "source": [
    "df "
   ]
  },
  {
   "cell_type": "code",
   "execution_count": null,
   "metadata": {},
   "outputs": [],
   "source": [
    "df = df[['open','high','low','close']]\n",
    "df"
   ]
  },
  {
   "cell_type": "code",
   "execution_count": null,
   "metadata": {},
   "outputs": [],
   "source": [
    "df['riz'] = pta.rsi(df.close,legnth=2)\n",
    "df['up_corn'] = (df['riz']>df['riz'].shift()) & ( df['riz'].shift()<df['riz'].shift(2))\n",
    "df['dn_corn'] = (df['riz']<df['riz'].shift()) & ( df['riz'].shift()>df['riz'].shift(2))\n",
    "hl(df)"
   ]
  },
  {
   "cell_type": "code",
   "execution_count": null,
   "metadata": {},
   "outputs": [],
   "source": [
    "df['last_up_corn'] = 0.0\n",
    "df['last_dn_corn'] = 0.0\n",
    "df['higher_low']   = False\n",
    "df['higher_high']  = False\n",
    "df['lower_high']   = False\n",
    "df['lower_low']    = False\n",
    "\n",
    "for i in trange(1,len(df)):\n",
    "    if df['up_corn'][i] == True:\n",
    "        df['last_up_corn'][i] = df['close'][i]\n",
    "    else:\n",
    "        df['last_up_corn'][i] = df['last_up_corn'][i-1]\n",
    "    if df['dn_corn'][i] == True:\n",
    "        df['last_dn_corn'][i] = df['close'][i]\n",
    "    else:\n",
    "        df['last_dn_corn'][i] = df['last_dn_corn'][i-1]\n",
    "    \n",
    "    if (df['up_corn'][i] == True) & (df['last_up_corn'][i] > df['last_up_corn'][i-1]):\n",
    "        df['higher_low'][i] = True\n",
    "    if (df['dn_corn'][i] == True) & (df['last_dn_corn'][i] > df['last_dn_corn'][i-1]):\n",
    "        df['higher_high'][i] = True\n",
    "    \n",
    "    if (df['up_corn'][i]==True) & (df['higher_low'][i]==False):\n",
    "        df['lower_low'][i] = True\n",
    "    if (df['dn_corn'][i] == True) & (df['higher_high'][i] == False):\n",
    "        df['lower_high'][i] = True\n",
    "    \n",
    "    #if\n",
    "        "
   ]
  },
  {
   "cell_type": "code",
   "execution_count": null,
   "metadata": {
    "scrolled": true
   },
   "outputs": [],
   "source": [
    "hl(df)"
   ]
  },
  {
   "cell_type": "code",
   "execution_count": null,
   "metadata": {},
   "outputs": [],
   "source": [
    "df['last_high_was_higher'] = False\n",
    "for i in trange(len(df)):\n",
    "    if df['higher_high'][i] == True:\n",
    "        df['last_high_was_higher'][i] = True\n",
    "    elif df['lower_high'][i] == True:\n",
    "        df['last_high_was_higher'][i] = False\n",
    "    else:\n",
    "        df['last_high_was_higher'][i] = df['last_high_was_higher'][i-1]\n",
    "        \n",
    "df['last_high_was_lower'] = ( df['last_high_was_higher'] == False)     \n",
    "        \n",
    "hl(df)"
   ]
  },
  {
   "cell_type": "code",
   "execution_count": null,
   "metadata": {},
   "outputs": [],
   "source": [
    "df['last_low_was_higher'] = False\n",
    "for i in trange(len(df)):\n",
    "    if df['higher_low'][i] == True:\n",
    "        df['last_low_was_higher'][i] = True\n",
    "    elif df['higher_low'][i] == True:\n",
    "        df['last_low_was_higher'][i] = False\n",
    "    else:\n",
    "        df['last_low_was_higher'][i] = df['last_low_was_higher'][i-1]"
   ]
  },
  {
   "cell_type": "code",
   "execution_count": null,
   "metadata": {
    "scrolled": true
   },
   "outputs": [],
   "source": [
    "df['last_low_was_lower'] = False\n",
    "for i in trange(len(df)):\n",
    "    if df['lower_low'][i] == True:\n",
    "        df['last_low_was_lower'][i] = True\n",
    "    elif df['higher_low'][i] == True:\n",
    "        df['last_low_was_lower'][i] = False\n",
    "    else:\n",
    "        df['last_low_was_lower'][i] = df['last_low_was_lower'][i-1]#.......................................................\n",
    "        \n",
    "df['closee'] = df['close']  \n",
    "df['last_high_and_last_low_higher'] = (df['last_high_was_higher']==True) & (df['last_low_was_higher']==True)\n",
    "df['last_low_was_higher'] = df['last_low_was_lower'] == False        \n",
    "hl(df)\n",
    "\n"
   ]
  },
  {
   "cell_type": "code",
   "execution_count": null,
   "metadata": {},
   "outputs": [],
   "source": [
    "df['trend_change'] = df['last_high_and_last_low_higher'] != df['last_high_and_last_low_higher'].shift()#...........................\n",
    "df['trend_change_up'] = (df['trend_change']==True) & ( df['last_high_and_last_low_higher']==True)\n",
    "df['datee']           = df.index.date\n",
    "\n"
   ]
  },
  {
   "cell_type": "markdown",
   "metadata": {},
   "source": [
    "# isolate switches for research"
   ]
  },
  {
   "cell_type": "code",
   "execution_count": null,
   "metadata": {
    "scrolled": true
   },
   "outputs": [],
   "source": [
    "#switch df\n",
    "sdf = df[df['trend_change']==True]\n",
    "sdf['change_diff'] = df['close'].shift() - df['close'] \n",
    "hl(sdf)"
   ]
  },
  {
   "cell_type": "code",
   "execution_count": null,
   "metadata": {},
   "outputs": [],
   "source": [
    "sdf.groupby('trend_change_up').agg('mean')['change_diff'].iplot(theme='solar',kind='bar',title='mean difference between trend changes')#\n",
    "sdf.groupby('trend_change_up').agg('sum')['change_diff'].iplot(theme='solar',kind='bar',title=' sum difference between trend changes')#\n",
    "sdf.groupby('trend_change_up').agg('mean')"
   ]
  },
  {
   "cell_type": "code",
   "execution_count": null,
   "metadata": {},
   "outputs": [],
   "source": [
    "from finding_fire import one_stop ,pct_targets\n"
   ]
  },
  {
   "cell_type": "code",
   "execution_count": null,
   "metadata": {},
   "outputs": [],
   "source": [
    "#def buy_trend_change(df,up_pct,dn_pct)\n",
    "df['buy']  = (df['trend_change_up'] == True) & ( df['trend_change_up'].shift() == False)\n",
    "pct_targets(df,up_pct=20,dn_pct=5,plot=False)\n",
    "results = one_stop(df,strat_name = 'FIRST Trend Change')\n",
    "results[['wins','loss']].sum().plot(kind='pie')\n",
    "#hl(df)"
   ]
  },
  {
   "cell_type": "code",
   "execution_count": null,
   "metadata": {},
   "outputs": [],
   "source": [
    "results[['wins','loss']].sum().plot(kind='pie')"
   ]
  },
  {
   "cell_type": "markdown",
   "metadata": {},
   "source": [
    "# making a short function"
   ]
  },
  {
   "cell_type": "code",
   "execution_count": null,
   "metadata": {},
   "outputs": [],
   "source": [
    "from stealing_fire import sola"
   ]
  },
  {
   "cell_type": "code",
   "execution_count": null,
   "metadata": {},
   "outputs": [],
   "source": [
    "def short_frame(df,plot=False):\n",
    "    if plot == True:\n",
    "        sola(df[['low','high']])\n",
    "\n",
    "    #INVERT DATA\n",
    "    big_num = df['high'].max()\n",
    "    print(big_num)\n",
    "\n",
    "    price_columns = ['open','low','high','close']\n",
    "    for col in price_columns:\n",
    "        df[col] = big_num - df[col]\n",
    "\n",
    "    # swap high and low since we inverted\n",
    "    df[['high','low']] = df[['low','high']]\n",
    "    if plot = True:\n",
    "        sola(df[['low','high']])"
   ]
  },
  {
   "cell_type": "code",
   "execution_count": null,
   "metadata": {},
   "outputs": [],
   "source": [
    "#df#def buy_trend_change(df,up_pct,dn_pct)\n",
    "df['buy']  = (df['trend_change_up'] == True) & ( df['trend_change_up'].shift() == False)\n",
    "pct_targets(df,up_pct=20,dn_pct=5,plot=False)\n",
    "result = one_stop(df,strat_name = 'FIRST Trend Change')\n",
    "result[['wins','loss']].sum().plot(kind='pie')\n",
    "results.append(result)\n",
    "#hl(df)"
   ]
  },
  {
   "cell_type": "markdown",
   "metadata": {},
   "source": [
    "# TURN WEEKLY THING INTO FUNCTION!!!!"
   ]
  },
  {
   "attachments": {
    "image.png": {
     "image/png": "[encoded data removed]"
    }
   },
   "cell_type": "markdown",
   "metadata": {},
   "source": [
    "# STRAT IDEAS!!!\n",
    "### > as soon as last high and last low buy pct targets, \n",
    "- wait for smack target if sell ticket not hit\n",
    "### > as soon as weekly hits off, go into smaller time frame\n",
    "### > I NEED ONE RESULTS JORNAL - \n",
    "- RESEARCH JORN EVERYTHING GOES IN AND PARSE LATER \n",
    "- ALL RESERCH HUB\n",
    "- give it a table of contents too!\n",
    "### > maybe make research jorn a notebook so you can so all this cool shit!!!!!\n",
    "![image.png](attachment:image.png)\n",
    "# FUCKING SICK I DIDNT KNOW I COULD ATTACH FUCKING PICTURES TO A NOTEBOOK THIS CHANGES EVERYTHING!!\""
   ]
  },
  {
   "cell_type": "code",
   "execution_count": null,
   "metadata": {},
   "outputs": [],
   "source": []
  }
 ],
 "metadata": {
  "kernelspec": {
   "display_name": "Python 3",
   "language": "python",
   "name": "python3"
  },
  "language_info": {
   "codemirror_mode": {
    "name": "ipython",
    "version": 3
   },
   "file_extension": ".py",
   "mimetype": "text/x-python",
   "name": "python",
   "nbconvert_exporter": "python",
   "pygments_lexer": "ipython3",
   "version": "3.7.6"
  }
 },
 "nbformat": 4,
 "nbformat_minor": 4
}
